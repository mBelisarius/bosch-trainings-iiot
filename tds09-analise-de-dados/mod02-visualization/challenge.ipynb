{
 "cells": [
  {
   "cell_type": "markdown",
   "source": [
    "## Database tree\n",
    "\n",
    "    database\n",
    "    ├───subsys_00\n",
    "    │   ├───temperature\n",
    "    │   │   ├───temp_sensor_00\n",
    "    │   │   └───temp_sensor_01\n",
    "    │   └───luminosity\n",
    "    └───subsys_01\n",
    "        ├───temperature\n",
    "        │   ├───temp_sensor_00\n",
    "        │   └───temp_sensor_01\n",
    "        └───luminosity"
   ],
   "metadata": {
    "collapsed": false
   },
   "id": "292dd27ade51790f"
  },
  {
   "cell_type": "markdown",
   "source": [
    "## Initial setup"
   ],
   "metadata": {
    "collapsed": false
   },
   "id": "a50c13317c6c786b"
  },
  {
   "cell_type": "code",
   "execution_count": null,
   "outputs": [],
   "source": [
    "import datetime\n",
    "import json\n",
    "import matplotlib.pyplot as plt\n",
    "import numpy as np\n",
    "import requests\n",
    "import time"
   ],
   "metadata": {
    "collapsed": false
   },
   "id": "initial_id"
  },
  {
   "cell_type": "code",
   "execution_count": null,
   "outputs": [],
   "source": [
    "def get_content(url, proxies=None, auth=None):\n",
    "    req = requests.get(url, proxies=proxies, auth=auth)\n",
    "    if req.status_code == 200:\n",
    "        return req.content\n",
    "\n",
    "    raise Exception(f\"Request not successful, code {req}\")"
   ],
   "metadata": {
    "collapsed": false
   },
   "id": "9306ff73958a6da6"
  },
  {
   "cell_type": "code",
   "execution_count": null,
   "outputs": [],
   "source": [
    "proxies = {\n",
    "    \"http\": \"http://<url>:<port>\",\n",
    "    \"https\": \"http://<url>:<port>\"\n",
    "}\n",
    "\n",
    "proxy_auth = requests.auth.HTTPProxyAuth(\"<user>\", \"<password>\")\n",
    "\n",
    "firebase_host = \"https://<database-name>.firebaseio.com\"\n",
    "url = firebase_host + \"<database-name>.json\""
   ],
   "metadata": {
    "collapsed": false
   },
   "id": "68ada8ec88027907"
  },
  {
   "cell_type": "markdown",
   "source": [
    "## Read current data"
   ],
   "metadata": {
    "collapsed": false
   },
   "id": "a6be852c9658634c"
  },
  {
   "cell_type": "code",
   "execution_count": null,
   "outputs": [],
   "source": [
    "content = get_content(url, proxies, proxy_auth)\n",
    "data = json.loads(content)\n",
    "\n",
    "data_len = len(data)\n",
    "indexes = np.array([int(x[-2:]) for x in data.keys()], dtype=np.int32)\n",
    "data_max_len = indexes[-1]\n",
    "\n",
    "luminosity = np.full(data_len, np.nan, dtype=np.float64)\n",
    "temp_sensor_00 = np.full(data_len, np.nan, dtype=np.float64)\n",
    "temp_sensor_01 = np.full(data_len, np.nan, dtype=np.float64)\n",
    "\n",
    "for i, j in zip(range(data_len), indexes):\n",
    "    try:\n",
    "        luminosity[i] = data[f\"subsys_{j:02}\"][\"luminosity\"]\n",
    "        temp_sensor_00[i] = data[f\"subsys_{j:02}\"][\"temperature\"][\"temp_sensor_00\"]\n",
    "        temp_sensor_01[i] = data[f\"subsys_{j:02}\"][\"temperature\"][\"temp_sensor_01\"]\n",
    "    except KeyError:\n",
    "        pass"
   ],
   "metadata": {
    "collapsed": false
   },
   "id": "bf623b786d722666"
  },
  {
   "cell_type": "markdown",
   "source": [
    "## Visualization"
   ],
   "metadata": {
    "collapsed": false
   },
   "id": "de6d032722f60d89"
  },
  {
   "cell_type": "code",
   "execution_count": null,
   "outputs": [],
   "source": [
    "plt.plot(indexes[~np.isnan(luminosity)], luminosity[~np.isnan(luminosity)], linestyle='', marker='o', label=\"data\")\n",
    "plt.plot(indexes, [np.mean(luminosity[~np.isnan(luminosity)])] * data_len, linestyle='-', marker='', label=\"mean\")\n",
    "plt.grid()\n",
    "plt.xlabel(\"index\")\n",
    "plt.ylabel(\"luminosity (V)\")\n",
    "plt.show()\n",
    "\n",
    "plt.plot(indexes[~np.isnan(temp_sensor_00)], temp_sensor_00[~np.isnan(temp_sensor_00)], linestyle='', marker='o',\n",
    "         label=\"data\")\n",
    "plt.plot(indexes, [np.mean(temp_sensor_00[~np.isnan(temp_sensor_00)])] * data_len, linestyle='-', marker='',\n",
    "         label=\"mean\")\n",
    "plt.grid()\n",
    "plt.xlabel(\"index\")\n",
    "plt.ylabel(\"temp_sensor_00 (oC)\")\n",
    "plt.show()\n",
    "\n",
    "plt.plot(indexes[~np.isnan(temp_sensor_01)], temp_sensor_01[~np.isnan(temp_sensor_01)], linestyle='', marker='o',\n",
    "         label=\"data\")\n",
    "plt.plot(indexes, [np.mean(temp_sensor_01[~np.isnan(temp_sensor_01)])] * data_len, linestyle='-', marker='',\n",
    "         label=\"mean\")\n",
    "plt.grid()\n",
    "plt.xlabel(\"index\")\n",
    "plt.ylabel(\"temp_sensor_01 (oC)\")\n",
    "plt.show()"
   ],
   "metadata": {
    "collapsed": false
   },
   "id": "e68c7524db02453e"
  },
  {
   "cell_type": "markdown",
   "source": [
    "## Dashboard"
   ],
   "metadata": {
    "collapsed": false
   },
   "id": "81b6cdda5d0d6cad"
  },
  {
   "cell_type": "code",
   "execution_count": null,
   "outputs": [],
   "source": [
    "def get_means():\n",
    "    content = get_content(url, proxies, proxy_auth)\n",
    "    data = json.loads(content)\n",
    "    \n",
    "    data_len = len(data)\n",
    "    indexes = np.array([int(x[-2:]) for x in data.keys()], dtype=np.int32)\n",
    "    data_max_len = indexes[-1]\n",
    "    \n",
    "    luminosity = np.full(data_len, np.nan, dtype=np.float64)\n",
    "    temp_sensor_00 = np.full(data_len, np.nan, dtype=np.float64)\n",
    "    temp_sensor_01 = np.full(data_len, np.nan, dtype=np.float64)\n",
    "    \n",
    "    for i, j in zip(range(data_len), indexes):\n",
    "        try:\n",
    "            luminosity[i] = data[f\"subsys_{j:02}\"][\"luminosity\"]\n",
    "            temp_sensor_00[i] = data[f\"subsys_{j:02}\"][\"temperature\"][\"temp_sensor_00\"]\n",
    "            temp_sensor_01[i] = data[f\"subsys_{j:02}\"][\"temperature\"][\"temp_sensor_01\"]\n",
    "        except KeyError:\n",
    "            pass\n",
    "        \n",
    "    luminosity_mean = np.mean(luminosity[~np.isnan(luminosity)])\n",
    "    temp_sensor_00_mean = np.mean(temp_sensor_00[~np.isnan(temp_sensor_00)])\n",
    "    temp_sensor_01_mean = np.mean(temp_sensor_01[~np.isnan(temp_sensor_01)])\n",
    "        \n",
    "    return luminosity_mean, temp_sensor_00_mean, temp_sensor_01_mean"
   ],
   "metadata": {
    "collapsed": false
   },
   "id": "9b7645dedf26f0a5"
  },
  {
   "cell_type": "code",
   "execution_count": null,
   "outputs": [],
   "source": [
    "%matplotlib notebook\n",
    "\n",
    "fig, axs = plt.subplots(nrows=3, sharex=True, figsize=(16, 8), gridspec_kw={\"hspace\": 0.4})\n",
    "fig.supxlabel(\"Time\")\n",
    "ax_luminosity, ax_temp_sensor_00,ax_temp_sensor_01 = axs\n",
    "\n",
    "ax_luminosity.grid(True)\n",
    "ax_luminosity.set_ylabel(\"Luminosity Mean\")\n",
    "\n",
    "ax_temp_sensor_00.grid(True)\n",
    "ax_temp_sensor_00.set_ylabel(\"Temperature S0 Mean (oC)\")\n",
    "\n",
    "ax_temp_sensor_01.grid(True)\n",
    "ax_temp_sensor_01.set_ylabel(\"Temperature S1 Mean (oC)\")\n",
    "\n",
    "plt.ion()\n",
    "fig.show()\n",
    "fig.canvas.draw()\n",
    "\n",
    "while True:\n",
    "    luminosity_mean, temp_sensor_00_mean, temp_sensor_01_mean = get_means()\n",
    "    current_time = datetime.datetime.now()\n",
    "    \n",
    "    ax_luminosity.plot(current_time, luminosity_mean, linestyle='', marker='o', markersize=4, color='r')\n",
    "    ax_temp_sensor_00.plot(current_time, temp_sensor_00_mean, linestyle='', marker='o', markersize=4, color='r')\n",
    "    ax_temp_sensor_01.plot(current_time, temp_sensor_01_mean, linestyle='', marker='o', markersize=4, color='r')\n",
    "    \n",
    "    fig.canvas.draw()\n",
    "    time.sleep(15)"
   ],
   "metadata": {
    "collapsed": false
   },
   "id": "a969cd80f417a430"
  },
  {
   "cell_type": "code",
   "execution_count": null,
   "outputs": [],
   "source": [],
   "metadata": {
    "collapsed": false
   },
   "id": "50f6169f31697a95"
  }
 ],
 "metadata": {
  "kernelspec": {
   "display_name": "Python 3",
   "language": "python",
   "name": "python3"
  },
  "language_info": {
   "codemirror_mode": {
    "name": "ipython",
    "version": 2
   },
   "file_extension": ".py",
   "mimetype": "text/x-python",
   "name": "python",
   "nbconvert_exporter": "python",
   "pygments_lexer": "ipython2",
   "version": "2.7.6"
  }
 },
 "nbformat": 4,
 "nbformat_minor": 5
}
